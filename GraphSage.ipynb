{
 "cells": [
  {
   "cell_type": "code",
   "execution_count": 1,
   "id": "a12bcb32",
   "metadata": {
    "_cell_guid": "b1076dfc-b9ad-4769-8c92-a6c4dae69d19",
    "_uuid": "8f2839f25d086af736a60e9eeb907d3b93b6e0e5",
    "execution": {
     "iopub.execute_input": "2023-04-23T09:48:37.488400Z",
     "iopub.status.busy": "2023-04-23T09:48:37.487853Z",
     "iopub.status.idle": "2023-04-23T09:48:37.507730Z",
     "shell.execute_reply": "2023-04-23T09:48:37.506426Z"
    },
    "papermill": {
     "duration": 0.032426,
     "end_time": "2023-04-23T09:48:37.511189",
     "exception": false,
     "start_time": "2023-04-23T09:48:37.478763",
     "status": "completed"
    },
    "tags": []
   },
   "outputs": [
    {
     "name": "stdout",
     "output_type": "stream",
     "text": [
      "/kaggle/input/ue20cs344-nam-assignment-2/edgelist.csv\n",
      "/kaggle/input/ue20cs344-nam-assignment-2/sample_submission.csv\n",
      "/kaggle/input/ue20cs344-nam-assignment-2/node_data.csv\n",
      "/kaggle/input/ue20cs344-nam-assignment-2/features.pt\n"
     ]
    }
   ],
   "source": [
    "# This Python 3 environment comes with many helpful analytics libraries installed\n",
    "# It is defined by the kaggle/python Docker image: https://github.com/kaggle/docker-python\n",
    "# For example, h1ere's several helpful packages to load\n",
    "\n",
    "import numpy as np # linear algebra\n",
    "import pandas as pd # data processing, CSV file I/O (e.g. pd.read_csv)\n",
    "\n",
    "# Input data files are available in the read-only \"../input/\" directory\n",
    "# For example, running this (by clicking run or pressing Shift+Enter) will list all files under the input directory\n",
    "\n",
    "import os\n",
    "for dirname, _, filenames in os.walk('/kaggle/input'):\n",
    "    for filename in filenames:\n",
    "        print(os.path.join(dirname, filename))\n",
    "\n",
    "# You can write up to 20GB to the current directory (/kaggle/working/) that gets preserved as output when you create a version using \"Save & Run All\" \n",
    "# You can also write temporary files to /kaggle/temp/, but they won't be saved outside of the current session"
   ]
  },
  {
   "cell_type": "code",
   "execution_count": 2,
   "id": "7d188dc2",
   "metadata": {
    "execution": {
     "iopub.execute_input": "2023-04-23T09:48:37.525339Z",
     "iopub.status.busy": "2023-04-23T09:48:37.524576Z",
     "iopub.status.idle": "2023-04-23T09:48:38.139905Z",
     "shell.execute_reply": "2023-04-23T09:48:38.138914Z"
    },
    "papermill": {
     "duration": 0.625112,
     "end_time": "2023-04-23T09:48:38.142442",
     "exception": false,
     "start_time": "2023-04-23T09:48:37.517330",
     "status": "completed"
    },
    "tags": []
   },
   "outputs": [],
   "source": [
    "import numpy as np\n",
    "import pandas as pd\n",
    "import networkx as nx\n",
    "import matplotlib.pyplot as plt"
   ]
  },
  {
   "cell_type": "code",
   "execution_count": 3,
   "id": "e6361d2f",
   "metadata": {
    "execution": {
     "iopub.execute_input": "2023-04-23T09:48:38.156516Z",
     "iopub.status.busy": "2023-04-23T09:48:38.155455Z",
     "iopub.status.idle": "2023-04-23T09:48:38.251880Z",
     "shell.execute_reply": "2023-04-23T09:48:38.249175Z"
    },
    "papermill": {
     "duration": 0.107746,
     "end_time": "2023-04-23T09:48:38.256055",
     "exception": false,
     "start_time": "2023-04-23T09:48:38.148309",
     "status": "completed"
    },
    "tags": []
   },
   "outputs": [],
   "source": [
    "el = pd.read_csv('/kaggle/input/ue20cs344-nam-assignment-2/edgelist.csv')\n",
    "nd = pd.read_csv('/kaggle/input/ue20cs344-nam-assignment-2/node_data.csv')"
   ]
  },
  {
   "cell_type": "code",
   "execution_count": 4,
   "id": "7e9db4cf",
   "metadata": {
    "execution": {
     "iopub.execute_input": "2023-04-23T09:48:38.274953Z",
     "iopub.status.busy": "2023-04-23T09:48:38.274072Z",
     "iopub.status.idle": "2023-04-23T09:48:38.306981Z",
     "shell.execute_reply": "2023-04-23T09:48:38.305880Z"
    },
    "papermill": {
     "duration": 0.04353,
     "end_time": "2023-04-23T09:48:38.309825",
     "exception": false,
     "start_time": "2023-04-23T09:48:38.266295",
     "status": "completed"
    },
    "tags": []
   },
   "outputs": [
    {
     "data": {
      "text/html": [
       "<div>\n",
       "<style scoped>\n",
       "    .dataframe tbody tr th:only-of-type {\n",
       "        vertical-align: middle;\n",
       "    }\n",
       "\n",
       "    .dataframe tbody tr th {\n",
       "        vertical-align: top;\n",
       "    }\n",
       "\n",
       "    .dataframe thead th {\n",
       "        text-align: right;\n",
       "    }\n",
       "</style>\n",
       "<table border=\"1\" class=\"dataframe\">\n",
       "  <thead>\n",
       "    <tr style=\"text-align: right;\">\n",
       "      <th></th>\n",
       "      <th>id</th>\n",
       "      <th>branch</th>\n",
       "      <th>train_mask</th>\n",
       "      <th>test_mask</th>\n",
       "    </tr>\n",
       "  </thead>\n",
       "  <tbody>\n",
       "    <tr>\n",
       "      <th>0</th>\n",
       "      <td>0</td>\n",
       "      <td>ECE</td>\n",
       "      <td>True</td>\n",
       "      <td>False</td>\n",
       "    </tr>\n",
       "    <tr>\n",
       "      <th>1</th>\n",
       "      <td>1</td>\n",
       "      <td>ECE</td>\n",
       "      <td>True</td>\n",
       "      <td>False</td>\n",
       "    </tr>\n",
       "    <tr>\n",
       "      <th>2</th>\n",
       "      <td>2</td>\n",
       "      <td>CSE</td>\n",
       "      <td>True</td>\n",
       "      <td>False</td>\n",
       "    </tr>\n",
       "    <tr>\n",
       "      <th>3</th>\n",
       "      <td>3</td>\n",
       "      <td>EEE</td>\n",
       "      <td>True</td>\n",
       "      <td>False</td>\n",
       "    </tr>\n",
       "    <tr>\n",
       "      <th>4</th>\n",
       "      <td>4</td>\n",
       "      <td>NaN</td>\n",
       "      <td>False</td>\n",
       "      <td>True</td>\n",
       "    </tr>\n",
       "  </tbody>\n",
       "</table>\n",
       "</div>"
      ],
      "text/plain": [
       "   id branch  train_mask  test_mask\n",
       "0   0    ECE        True      False\n",
       "1   1    ECE        True      False\n",
       "2   2    CSE        True      False\n",
       "3   3    EEE        True      False\n",
       "4   4    NaN       False       True"
      ]
     },
     "execution_count": 4,
     "metadata": {},
     "output_type": "execute_result"
    }
   ],
   "source": [
    "nd.head()"
   ]
  },
  {
   "cell_type": "code",
   "execution_count": 5,
   "id": "2e4e2c53",
   "metadata": {
    "execution": {
     "iopub.execute_input": "2023-04-23T09:48:38.323570Z",
     "iopub.status.busy": "2023-04-23T09:48:38.323170Z",
     "iopub.status.idle": "2023-04-23T09:48:38.332929Z",
     "shell.execute_reply": "2023-04-23T09:48:38.331645Z"
    },
    "papermill": {
     "duration": 0.019656,
     "end_time": "2023-04-23T09:48:38.335452",
     "exception": false,
     "start_time": "2023-04-23T09:48:38.315796",
     "status": "completed"
    },
    "tags": []
   },
   "outputs": [
    {
     "data": {
      "text/html": [
       "<div>\n",
       "<style scoped>\n",
       "    .dataframe tbody tr th:only-of-type {\n",
       "        vertical-align: middle;\n",
       "    }\n",
       "\n",
       "    .dataframe tbody tr th {\n",
       "        vertical-align: top;\n",
       "    }\n",
       "\n",
       "    .dataframe thead th {\n",
       "        text-align: right;\n",
       "    }\n",
       "</style>\n",
       "<table border=\"1\" class=\"dataframe\">\n",
       "  <thead>\n",
       "    <tr style=\"text-align: right;\">\n",
       "      <th></th>\n",
       "      <th>source</th>\n",
       "      <th>target</th>\n",
       "    </tr>\n",
       "  </thead>\n",
       "  <tbody>\n",
       "    <tr>\n",
       "      <th>0</th>\n",
       "      <td>0</td>\n",
       "      <td>1378</td>\n",
       "    </tr>\n",
       "    <tr>\n",
       "      <th>1</th>\n",
       "      <td>0</td>\n",
       "      <td>1544</td>\n",
       "    </tr>\n",
       "    <tr>\n",
       "      <th>2</th>\n",
       "      <td>0</td>\n",
       "      <td>6092</td>\n",
       "    </tr>\n",
       "    <tr>\n",
       "      <th>3</th>\n",
       "      <td>0</td>\n",
       "      <td>7636</td>\n",
       "    </tr>\n",
       "    <tr>\n",
       "      <th>4</th>\n",
       "      <td>0</td>\n",
       "      <td>14442</td>\n",
       "    </tr>\n",
       "  </tbody>\n",
       "</table>\n",
       "</div>"
      ],
      "text/plain": [
       "   source  target\n",
       "0       0    1378\n",
       "1       0    1544\n",
       "2       0    6092\n",
       "3       0    7636\n",
       "4       0   14442"
      ]
     },
     "execution_count": 5,
     "metadata": {},
     "output_type": "execute_result"
    }
   ],
   "source": [
    "el.head()"
   ]
  },
  {
   "cell_type": "code",
   "execution_count": 6,
   "id": "15ed9da2",
   "metadata": {
    "execution": {
     "iopub.execute_input": "2023-04-23T09:48:38.350695Z",
     "iopub.status.busy": "2023-04-23T09:48:38.349746Z",
     "iopub.status.idle": "2023-04-23T09:48:38.355121Z",
     "shell.execute_reply": "2023-04-23T09:48:38.353853Z"
    },
    "papermill": {
     "duration": 0.01604,
     "end_time": "2023-04-23T09:48:38.357661",
     "exception": false,
     "start_time": "2023-04-23T09:48:38.341621",
     "status": "completed"
    },
    "tags": []
   },
   "outputs": [],
   "source": [
    "G = nx.Graph()"
   ]
  },
  {
   "cell_type": "code",
   "execution_count": 7,
   "id": "aaf6abc6",
   "metadata": {
    "execution": {
     "iopub.execute_input": "2023-04-23T09:48:38.372774Z",
     "iopub.status.busy": "2023-04-23T09:48:38.371597Z",
     "iopub.status.idle": "2023-04-23T09:48:44.629734Z",
     "shell.execute_reply": "2023-04-23T09:48:44.628594Z"
    },
    "papermill": {
     "duration": 6.268636,
     "end_time": "2023-04-23T09:48:44.632663",
     "exception": false,
     "start_time": "2023-04-23T09:48:38.364027",
     "status": "completed"
    },
    "tags": []
   },
   "outputs": [],
   "source": [
    "#nd.set_index('id',inplace=True)\n",
    "for node_id,node_attrs in nd.iterrows():\n",
    "    attrs = node_attrs.to_dict()\n",
    "    G.add_node(id,**attrs)\n",
    "\n",
    "for id,row in el.iterrows():\n",
    "    source = row['source']\n",
    "    target = row['target']\n",
    "    G.add_edge(source,target)\n",
    "    \n",
    "#nx.draw(G,with_labels=True)"
   ]
  },
  {
   "cell_type": "code",
   "execution_count": 8,
   "id": "5c057555",
   "metadata": {
    "execution": {
     "iopub.execute_input": "2023-04-23T09:48:44.647149Z",
     "iopub.status.busy": "2023-04-23T09:48:44.646765Z",
     "iopub.status.idle": "2023-04-23T09:48:44.665836Z",
     "shell.execute_reply": "2023-04-23T09:48:44.664529Z"
    },
    "papermill": {
     "duration": 0.029505,
     "end_time": "2023-04-23T09:48:44.668449",
     "exception": false,
     "start_time": "2023-04-23T09:48:44.638944",
     "status": "completed"
    },
    "tags": []
   },
   "outputs": [
    {
     "name": "stdout",
     "output_type": "stream",
     "text": [
      "44324\n",
      "19718\n"
     ]
    }
   ],
   "source": [
    "print(format(G.number_of_edges()))\n",
    "print(format(G.number_of_nodes()))"
   ]
  },
  {
   "cell_type": "code",
   "execution_count": 9,
   "id": "29bc97e1",
   "metadata": {
    "execution": {
     "iopub.execute_input": "2023-04-23T09:48:44.683429Z",
     "iopub.status.busy": "2023-04-23T09:48:44.683041Z",
     "iopub.status.idle": "2023-04-23T10:19:25.504660Z",
     "shell.execute_reply": "2023-04-23T10:19:25.503095Z"
    },
    "papermill": {
     "duration": 1840.83288,
     "end_time": "2023-04-23T10:19:25.507837",
     "exception": false,
     "start_time": "2023-04-23T09:48:44.674957",
     "status": "completed"
    },
    "tags": []
   },
   "outputs": [
    {
     "name": "stdout",
     "output_type": "stream",
     "text": [
      "\u001b[33mWARNING: Running pip as the 'root' user can result in broken permissions and conflicting behaviour with the system package manager. It is recommended to use a virtual environment instead: https://pip.pypa.io/warnings/venv\u001b[0m\u001b[33m\r\n",
      "\u001b[0m\u001b[33mWARNING: Running pip as the 'root' user can result in broken permissions and conflicting behaviour with the system package manager. It is recommended to use a virtual environment instead: https://pip.pypa.io/warnings/venv\u001b[0m\u001b[33m\r\n",
      "\u001b[0m\u001b[33mWARNING: Running pip as the 'root' user can result in broken permissions and conflicting behaviour with the system package manager. It is recommended to use a virtual environment instead: https://pip.pypa.io/warnings/venv\u001b[0m\u001b[33m\r\n",
      "\u001b[0mCollecting torch-cluster\r\n",
      "  Downloading torch_cluster-1.6.1.tar.gz (53 kB)\r\n",
      "\u001b[2K     \u001b[90m━━━━━━━━━━━━━━━━━━━━━━━━━━━━━━━━━━━━━━━━\u001b[0m \u001b[32m53.8/53.8 kB\u001b[0m \u001b[31m2.2 MB/s\u001b[0m eta \u001b[36m0:00:00\u001b[0m\r\n",
      "\u001b[?25h  Preparing metadata (setup.py) ... \u001b[?25l-\b \bdone\r\n",
      "\u001b[?25hRequirement already satisfied: scipy in /opt/conda/lib/python3.7/site-packages (from torch-cluster) (1.7.3)\r\n",
      "Requirement already satisfied: numpy<1.23.0,>=1.16.5 in /opt/conda/lib/python3.7/site-packages (from scipy->torch-cluster) (1.21.6)\r\n",
      "Building wheels for collected packages: torch-cluster\r\n",
      "  Building wheel for torch-cluster (setup.py) ... \u001b[?25l-\b \b\\\b \b|\b \b/\b \b-\b \b\\\b \b|\b \b/\b \b-\b \b\\\b \b|\b \b/\b \b-\b \b\\\b \b|\b \b/\b \b-\b \b\\\b \b|\b \b/\b \b-\b \b\\\b \b|\b \b/\b \b-\b \b\\\b \bdone\r\n",
      "\u001b[?25h  Created wheel for torch-cluster: filename=torch_cluster-1.6.1-cp37-cp37m-linux_x86_64.whl size=739190 sha256=4da9f0e00a3b6bb007e54c89db28cecc6ddd9c5d99ce72a8ac3f9a3c18864f1f\r\n",
      "  Stored in directory: /root/.cache/pip/wheels/59/a4/3a/bd84e20d689ff3f2478a7bb718c3a5855710d5c77a054df5fb\r\n",
      "Successfully built torch-cluster\r\n",
      "Installing collected packages: torch-cluster\r\n",
      "Successfully installed torch-cluster-1.6.1\r\n",
      "\u001b[33mWARNING: Running pip as the 'root' user can result in broken permissions and conflicting behaviour with the system package manager. It is recommended to use a virtual environment instead: https://pip.pypa.io/warnings/venv\u001b[0m\u001b[33m\r\n",
      "\u001b[0m"
     ]
    }
   ],
   "source": [
    "#Install the necessary packages\n",
    "!pip install -q torch-scatter -f https://data.pyg.org/whl/torch-1.10.0+cu113.html\n",
    "!pip install -q torch-sparse -f https://data.pyg.org/whl/torch-1.10.0+cu113.html\n",
    "!pip install -q git+https://github.com/pyg-team/pytorch_geometric.git\n",
    "!pip install --upgrade torch-cluster"
   ]
  },
  {
   "cell_type": "code",
   "execution_count": 10,
   "id": "b039c7f5",
   "metadata": {
    "execution": {
     "iopub.execute_input": "2023-04-23T10:19:25.527886Z",
     "iopub.status.busy": "2023-04-23T10:19:25.527449Z",
     "iopub.status.idle": "2023-04-23T10:19:29.018278Z",
     "shell.execute_reply": "2023-04-23T10:19:29.016654Z"
    },
    "papermill": {
     "duration": 3.505131,
     "end_time": "2023-04-23T10:19:29.021507",
     "exception": false,
     "start_time": "2023-04-23T10:19:25.516376",
     "status": "completed"
    },
    "tags": []
   },
   "outputs": [],
   "source": [
    "#Making all the necessary imports \n",
    "import numpy as np \n",
    "import pandas as pd \n",
    "import matplotlib.pyplot as plt \n",
    "import networkx as nx\n",
    "import os.path as osp\n",
    "import torch  \n",
    "from tqdm.notebook import tqdm \n",
    "from sklearn.manifold import TSNE\n",
    "from sklearn.decomposition import PCA\n",
    "from torch_geometric.datasets import TUDataset\n",
    "from torch_geometric.nn import Node2Vec\n",
    "import torch_cluster\n",
    "from sklearn.model_selection import cross_val_score\n",
    "from sklearn.ensemble import RandomForestClassifier"
   ]
  },
  {
   "cell_type": "code",
   "execution_count": 11,
   "id": "c28965e2",
   "metadata": {
    "execution": {
     "iopub.execute_input": "2023-04-23T10:19:29.041140Z",
     "iopub.status.busy": "2023-04-23T10:19:29.040339Z",
     "iopub.status.idle": "2023-04-23T10:19:42.582873Z",
     "shell.execute_reply": "2023-04-23T10:19:42.581061Z"
    },
    "papermill": {
     "duration": 13.555576,
     "end_time": "2023-04-23T10:19:42.585748",
     "exception": false,
     "start_time": "2023-04-23T10:19:29.030172",
     "status": "completed"
    },
    "tags": []
   },
   "outputs": [
    {
     "name": "stdout",
     "output_type": "stream",
     "text": [
      "Collecting node2vec\r\n",
      "  Downloading node2vec-0.4.3.tar.gz (4.6 kB)\r\n",
      "  Preparing metadata (setup.py) ... \u001b[?25l-\b \bdone\r\n",
      "\u001b[?25hRequirement already satisfied: networkx in /opt/conda/lib/python3.7/site-packages (from node2vec) (2.6.3)\r\n",
      "Requirement already satisfied: gensim in /opt/conda/lib/python3.7/site-packages (from node2vec) (4.2.0)\r\n",
      "Requirement already satisfied: numpy in /opt/conda/lib/python3.7/site-packages (from node2vec) (1.21.6)\r\n",
      "Requirement already satisfied: tqdm in /opt/conda/lib/python3.7/site-packages (from node2vec) (4.64.1)\r\n",
      "Requirement already satisfied: joblib>=0.13.2 in /opt/conda/lib/python3.7/site-packages (from node2vec) (1.2.0)\r\n",
      "Requirement already satisfied: scipy>=0.18.1 in /opt/conda/lib/python3.7/site-packages (from gensim->node2vec) (1.7.3)\r\n",
      "Requirement already satisfied: smart-open>=1.8.1 in /opt/conda/lib/python3.7/site-packages (from gensim->node2vec) (6.3.0)\r\n",
      "Building wheels for collected packages: node2vec\r\n",
      "  Building wheel for node2vec (setup.py) ... \u001b[?25l-\b \bdone\r\n",
      "\u001b[?25h  Created wheel for node2vec: filename=node2vec-0.4.3-py3-none-any.whl size=5980 sha256=b2ba0b4c4a413b90c3d95ab75a6e4da180559471e8a3ef15f8c154b5a67d1ed8\r\n",
      "  Stored in directory: /root/.cache/pip/wheels/41/d8/5d/28571981b2dc5a7003e03031a9f42c9a68f323b8fb1ddbb341\r\n",
      "Successfully built node2vec\r\n",
      "Installing collected packages: node2vec\r\n",
      "Successfully installed node2vec-0.4.3\r\n",
      "\u001b[33mWARNING: Running pip as the 'root' user can result in broken permissions and conflicting behaviour with the system package manager. It is recommended to use a virtual environment instead: https://pip.pypa.io/warnings/venv\u001b[0m\u001b[33m\r\n",
      "\u001b[0mNote: you may need to restart the kernel to use updated packages.\n"
     ]
    }
   ],
   "source": [
    "pip install node2vec"
   ]
  },
  {
   "cell_type": "code",
   "execution_count": 12,
   "id": "b615171b",
   "metadata": {
    "execution": {
     "iopub.execute_input": "2023-04-23T10:19:42.606748Z",
     "iopub.status.busy": "2023-04-23T10:19:42.606302Z",
     "iopub.status.idle": "2023-04-23T10:53:15.277015Z",
     "shell.execute_reply": "2023-04-23T10:53:15.275490Z"
    },
    "papermill": {
     "duration": 2012.684979,
     "end_time": "2023-04-23T10:53:15.279972",
     "exception": false,
     "start_time": "2023-04-23T10:19:42.594993",
     "status": "completed"
    },
    "tags": []
   },
   "outputs": [
    {
     "data": {
      "application/vnd.jupyter.widget-view+json": {
       "model_id": "9651b87a113a4908a5912256e92164ef",
       "version_major": 2,
       "version_minor": 0
      },
      "text/plain": [
       "Computing transition probabilities:   0%|          | 0/19718 [00:00<?, ?it/s]"
      ]
     },
     "metadata": {},
     "output_type": "display_data"
    },
    {
     "name": "stderr",
     "output_type": "stream",
     "text": [
      "Generating walks (CPU: 1): 100%|██████████| 10/10 [10:04<00:00, 60.50s/it]\n"
     ]
    }
   ],
   "source": [
    "from node2vec import Node2Vec\n",
    "node2vec = Node2Vec(G, dimensions=128 , walk_length=80 , num_walks=10 , p=1 , q=0.5)\n",
    "model = node2vec.fit(window=10, min_count=1)"
   ]
  },
  {
   "cell_type": "code",
   "execution_count": 13,
   "id": "f078e39e",
   "metadata": {
    "execution": {
     "iopub.execute_input": "2023-04-23T10:53:15.302868Z",
     "iopub.status.busy": "2023-04-23T10:53:15.302390Z",
     "iopub.status.idle": "2023-04-23T10:53:15.634460Z",
     "shell.execute_reply": "2023-04-23T10:53:15.633087Z"
    },
    "papermill": {
     "duration": 0.346848,
     "end_time": "2023-04-23T10:53:15.637413",
     "exception": false,
     "start_time": "2023-04-23T10:53:15.290565",
     "status": "completed"
    },
    "tags": []
   },
   "outputs": [],
   "source": [
    "features=torch.load('/kaggle/input/ue20cs344-nam-assignment-2/features.pt')"
   ]
  },
  {
   "cell_type": "code",
   "execution_count": 14,
   "id": "01795c00",
   "metadata": {
    "execution": {
     "iopub.execute_input": "2023-04-23T10:53:15.660119Z",
     "iopub.status.busy": "2023-04-23T10:53:15.659695Z",
     "iopub.status.idle": "2023-04-23T10:53:15.680358Z",
     "shell.execute_reply": "2023-04-23T10:53:15.679070Z"
    },
    "papermill": {
     "duration": 0.034682,
     "end_time": "2023-04-23T10:53:15.682674",
     "exception": false,
     "start_time": "2023-04-23T10:53:15.647992",
     "status": "completed"
    },
    "tags": []
   },
   "outputs": [
    {
     "data": {
      "text/html": [
       "<div>\n",
       "<style scoped>\n",
       "    .dataframe tbody tr th:only-of-type {\n",
       "        vertical-align: middle;\n",
       "    }\n",
       "\n",
       "    .dataframe tbody tr th {\n",
       "        vertical-align: top;\n",
       "    }\n",
       "\n",
       "    .dataframe thead th {\n",
       "        text-align: right;\n",
       "    }\n",
       "</style>\n",
       "<table border=\"1\" class=\"dataframe\">\n",
       "  <thead>\n",
       "    <tr style=\"text-align: right;\">\n",
       "      <th></th>\n",
       "      <th>id</th>\n",
       "      <th>branch</th>\n",
       "      <th>train_mask</th>\n",
       "      <th>test_mask</th>\n",
       "    </tr>\n",
       "  </thead>\n",
       "  <tbody>\n",
       "    <tr>\n",
       "      <th>0</th>\n",
       "      <td>0</td>\n",
       "      <td>1</td>\n",
       "      <td>True</td>\n",
       "      <td>False</td>\n",
       "    </tr>\n",
       "    <tr>\n",
       "      <th>1</th>\n",
       "      <td>1</td>\n",
       "      <td>1</td>\n",
       "      <td>True</td>\n",
       "      <td>False</td>\n",
       "    </tr>\n",
       "    <tr>\n",
       "      <th>2</th>\n",
       "      <td>2</td>\n",
       "      <td>0</td>\n",
       "      <td>True</td>\n",
       "      <td>False</td>\n",
       "    </tr>\n",
       "    <tr>\n",
       "      <th>3</th>\n",
       "      <td>3</td>\n",
       "      <td>2</td>\n",
       "      <td>True</td>\n",
       "      <td>False</td>\n",
       "    </tr>\n",
       "    <tr>\n",
       "      <th>4</th>\n",
       "      <td>4</td>\n",
       "      <td>3</td>\n",
       "      <td>False</td>\n",
       "      <td>True</td>\n",
       "    </tr>\n",
       "  </tbody>\n",
       "</table>\n",
       "</div>"
      ],
      "text/plain": [
       "   id  branch  train_mask  test_mask\n",
       "0   0       1        True      False\n",
       "1   1       1        True      False\n",
       "2   2       0        True      False\n",
       "3   3       2        True      False\n",
       "4   4       3       False       True"
      ]
     },
     "execution_count": 14,
     "metadata": {},
     "output_type": "execute_result"
    }
   ],
   "source": [
    "from sklearn.preprocessing import LabelEncoder\n",
    "labels = LabelEncoder()\n",
    "nd['branch'] = labels.fit_transform(nd['branch'])\n",
    "nd.head()"
   ]
  },
  {
   "cell_type": "code",
   "execution_count": 15,
   "id": "df9801e5",
   "metadata": {
    "execution": {
     "iopub.execute_input": "2023-04-23T10:53:15.706603Z",
     "iopub.status.busy": "2023-04-23T10:53:15.705965Z",
     "iopub.status.idle": "2023-04-23T10:53:15.838682Z",
     "shell.execute_reply": "2023-04-23T10:53:15.837334Z"
    },
    "papermill": {
     "duration": 0.148307,
     "end_time": "2023-04-23T10:53:15.841816",
     "exception": false,
     "start_time": "2023-04-23T10:53:15.693509",
     "status": "completed"
    },
    "tags": []
   },
   "outputs": [],
   "source": [
    "from torch_geometric.data import Data\n",
    "edge_index = torch.tensor(list(G.edges)).t().contiguous()\n",
    "x = features\n",
    "y = torch.tensor(nd['branch'].values,)\n",
    "data = Data(x=x, edge_index=edge_index , y=y)\n",
    "data.train_mask = nd[\"train_mask\"].values\n",
    "data.test_mask = nd[\"test_mask\"].values"
   ]
  },
  {
   "cell_type": "code",
   "execution_count": 16,
   "id": "490d318a",
   "metadata": {
    "execution": {
     "iopub.execute_input": "2023-04-23T10:53:15.865985Z",
     "iopub.status.busy": "2023-04-23T10:53:15.865273Z",
     "iopub.status.idle": "2023-04-23T10:53:15.874790Z",
     "shell.execute_reply": "2023-04-23T10:53:15.873359Z"
    },
    "papermill": {
     "duration": 0.024364,
     "end_time": "2023-04-23T10:53:15.877352",
     "exception": false,
     "start_time": "2023-04-23T10:53:15.852988",
     "status": "completed"
    },
    "tags": []
   },
   "outputs": [],
   "source": [
    "#graphsage\n",
    "from torch_geometric.nn import SAGEConv\n",
    "import torch.nn.functional as F\n",
    "class GraphSAGE(torch.nn.Module):\n",
    "    def __init__(self, in_channels, hidden_channels, out_channels):\n",
    "        super(GraphSAGE, self).__init__()\n",
    "        self.conv1 = SAGEConv(in_channels, hidden_channels)\n",
    "        self.conv2 = SAGEConv(hidden_channels, out_channels)\n",
    "\n",
    "    def forward(self, x, edge_index):\n",
    "        x = F.dropout(x, p=0.5, training=self.training)\n",
    "        x = F.relu(self.conv1(x, edge_index))\n",
    "        x = F.dropout(x, p=0.5, training=self.training)\n",
    "        x = self.conv2(x, edge_index)\n",
    "        return F.log_softmax(x, dim=1)"
   ]
  },
  {
   "cell_type": "code",
   "execution_count": 17,
   "id": "bbc6a6f6",
   "metadata": {
    "execution": {
     "iopub.execute_input": "2023-04-23T10:53:15.900261Z",
     "iopub.status.busy": "2023-04-23T10:53:15.899832Z",
     "iopub.status.idle": "2023-04-23T10:53:15.916976Z",
     "shell.execute_reply": "2023-04-23T10:53:15.915574Z"
    },
    "papermill": {
     "duration": 0.031856,
     "end_time": "2023-04-23T10:53:15.919769",
     "exception": false,
     "start_time": "2023-04-23T10:53:15.887913",
     "status": "completed"
    },
    "tags": []
   },
   "outputs": [],
   "source": [
    "model = GraphSAGE(data.num_features, 16, 3)\n",
    "\n",
    "# Define the optimizer and loss function\n",
    "optimizer = torch.optim.Adam(model.parameters(), lr=0.01)\n",
    "criterion = torch.nn.CrossEntropyLoss()"
   ]
  },
  {
   "cell_type": "code",
   "execution_count": 18,
   "id": "5a03e2fb",
   "metadata": {
    "execution": {
     "iopub.execute_input": "2023-04-23T10:53:15.943265Z",
     "iopub.status.busy": "2023-04-23T10:53:15.942835Z",
     "iopub.status.idle": "2023-04-23T10:54:09.472598Z",
     "shell.execute_reply": "2023-04-23T10:54:09.471229Z"
    },
    "papermill": {
     "duration": 53.544547,
     "end_time": "2023-04-23T10:54:09.475351",
     "exception": false,
     "start_time": "2023-04-23T10:53:15.930804",
     "status": "completed"
    },
    "tags": []
   },
   "outputs": [
    {
     "name": "stdout",
     "output_type": "stream",
     "text": [
      "loss:1.078887939453125, epoch:0\n",
      "loss:1.0700348615646362, epoch:1\n",
      "loss:1.0617119073867798, epoch:2\n",
      "loss:1.0520209074020386, epoch:3\n",
      "loss:1.0410798788070679, epoch:4\n",
      "loss:1.030768632888794, epoch:5\n",
      "loss:1.0188578367233276, epoch:6\n",
      "loss:1.0034524202346802, epoch:7\n",
      "loss:0.9924741387367249, epoch:8\n",
      "loss:0.9796929359436035, epoch:9\n",
      "loss:0.962448000907898, epoch:10\n",
      "loss:0.9433087706565857, epoch:11\n",
      "loss:0.9297482371330261, epoch:12\n",
      "loss:0.9097240567207336, epoch:13\n",
      "loss:0.8954039216041565, epoch:14\n",
      "loss:0.8737378716468811, epoch:15\n",
      "loss:0.856985330581665, epoch:16\n",
      "loss:0.8411339521408081, epoch:17\n",
      "loss:0.819584310054779, epoch:18\n",
      "loss:0.8074754476547241, epoch:19\n",
      "loss:0.7773948907852173, epoch:20\n",
      "loss:0.7644479870796204, epoch:21\n",
      "loss:0.7493978142738342, epoch:22\n",
      "loss:0.7286868691444397, epoch:23\n",
      "loss:0.7143148183822632, epoch:24\n",
      "loss:0.7008190751075745, epoch:25\n",
      "loss:0.6901144981384277, epoch:26\n",
      "loss:0.688529908657074, epoch:27\n",
      "loss:0.6682896614074707, epoch:28\n",
      "loss:0.6579039692878723, epoch:29\n",
      "loss:0.6495872139930725, epoch:30\n",
      "loss:0.6308656334877014, epoch:31\n",
      "loss:0.6319016218185425, epoch:32\n",
      "loss:0.6215702295303345, epoch:33\n",
      "loss:0.6099153161048889, epoch:34\n",
      "loss:0.6017481684684753, epoch:35\n",
      "loss:0.6008347272872925, epoch:36\n",
      "loss:0.5898970365524292, epoch:37\n",
      "loss:0.5823403000831604, epoch:38\n",
      "loss:0.5883863568305969, epoch:39\n",
      "loss:0.5684823989868164, epoch:40\n",
      "loss:0.5756725668907166, epoch:41\n",
      "loss:0.571084201335907, epoch:42\n",
      "loss:0.5524071455001831, epoch:43\n",
      "loss:0.5530927777290344, epoch:44\n",
      "loss:0.5541282296180725, epoch:45\n",
      "loss:0.5409294962882996, epoch:46\n",
      "loss:0.5371524095535278, epoch:47\n",
      "loss:0.5435725450515747, epoch:48\n",
      "loss:0.5300630331039429, epoch:49\n",
      "loss:0.536829948425293, epoch:50\n",
      "loss:0.535045862197876, epoch:51\n",
      "loss:0.5159969925880432, epoch:52\n",
      "loss:0.5182713270187378, epoch:53\n",
      "loss:0.5143843293190002, epoch:54\n",
      "loss:0.5115243792533875, epoch:55\n",
      "loss:0.5191618800163269, epoch:56\n",
      "loss:0.5118262767791748, epoch:57\n",
      "loss:0.5082905888557434, epoch:58\n",
      "loss:0.5039348602294922, epoch:59\n",
      "loss:0.5055068731307983, epoch:60\n",
      "loss:0.5051681399345398, epoch:61\n",
      "loss:0.4972982704639435, epoch:62\n",
      "loss:0.49051740765571594, epoch:63\n",
      "loss:0.49197399616241455, epoch:64\n",
      "loss:0.4936612546443939, epoch:65\n",
      "loss:0.4921673536300659, epoch:66\n",
      "loss:0.4863955080509186, epoch:67\n",
      "loss:0.47339797019958496, epoch:68\n",
      "loss:0.48490169644355774, epoch:69\n",
      "loss:0.48083752393722534, epoch:70\n",
      "loss:0.4818267226219177, epoch:71\n",
      "loss:0.476231187582016, epoch:72\n",
      "loss:0.47749003767967224, epoch:73\n",
      "loss:0.4766322374343872, epoch:74\n",
      "loss:0.47104257345199585, epoch:75\n",
      "loss:0.4723261892795563, epoch:76\n",
      "loss:0.46029719710350037, epoch:77\n",
      "loss:0.4612957835197449, epoch:78\n",
      "loss:0.46796271204948425, epoch:79\n",
      "loss:0.474300742149353, epoch:80\n",
      "loss:0.46684402227401733, epoch:81\n",
      "loss:0.46295371651649475, epoch:82\n",
      "loss:0.45875611901283264, epoch:83\n",
      "loss:0.46425101161003113, epoch:84\n",
      "loss:0.46192872524261475, epoch:85\n",
      "loss:0.4611539840698242, epoch:86\n",
      "loss:0.45514288544654846, epoch:87\n",
      "loss:0.46576690673828125, epoch:88\n",
      "loss:0.453824907541275, epoch:89\n",
      "loss:0.450437992811203, epoch:90\n",
      "loss:0.45545560121536255, epoch:91\n",
      "loss:0.4491967260837555, epoch:92\n",
      "loss:0.4610496461391449, epoch:93\n",
      "loss:0.44713377952575684, epoch:94\n",
      "loss:0.4471178352832794, epoch:95\n",
      "loss:0.4445188045501709, epoch:96\n",
      "loss:0.4437766373157501, epoch:97\n",
      "loss:0.4394935667514801, epoch:98\n",
      "loss:0.4491347074508667, epoch:99\n",
      "loss:0.4412478506565094, epoch:100\n",
      "loss:0.43651270866394043, epoch:101\n",
      "loss:0.44336390495300293, epoch:102\n",
      "loss:0.4476986527442932, epoch:103\n",
      "loss:0.44323036074638367, epoch:104\n",
      "loss:0.4401496350765228, epoch:105\n",
      "loss:0.4370874762535095, epoch:106\n",
      "loss:0.43357592821121216, epoch:107\n",
      "loss:0.44522058963775635, epoch:108\n",
      "loss:0.43470630049705505, epoch:109\n",
      "loss:0.4363175332546234, epoch:110\n",
      "loss:0.4316607415676117, epoch:111\n",
      "loss:0.4338095188140869, epoch:112\n",
      "loss:0.44524523615837097, epoch:113\n",
      "loss:0.436528742313385, epoch:114\n",
      "loss:0.44338008761405945, epoch:115\n",
      "loss:0.43751269578933716, epoch:116\n",
      "loss:0.44329243898391724, epoch:117\n",
      "loss:0.43915000557899475, epoch:118\n",
      "loss:0.4334883391857147, epoch:119\n",
      "loss:0.4338662624359131, epoch:120\n",
      "loss:0.4312860071659088, epoch:121\n",
      "loss:0.4478209614753723, epoch:122\n",
      "loss:0.4264078438282013, epoch:123\n",
      "loss:0.42663344740867615, epoch:124\n",
      "loss:0.4300805926322937, epoch:125\n",
      "loss:0.42919203639030457, epoch:126\n",
      "loss:0.42270734906196594, epoch:127\n",
      "loss:0.4309825003147125, epoch:128\n",
      "loss:0.42503440380096436, epoch:129\n",
      "loss:0.42250683903694153, epoch:130\n",
      "loss:0.42346376180648804, epoch:131\n",
      "loss:0.4251349866390228, epoch:132\n",
      "loss:0.4268643856048584, epoch:133\n",
      "loss:0.42605191469192505, epoch:134\n",
      "loss:0.4274962246417999, epoch:135\n",
      "loss:0.42472270131111145, epoch:136\n",
      "loss:0.4221814274787903, epoch:137\n",
      "loss:0.42254817485809326, epoch:138\n",
      "loss:0.4114087224006653, epoch:139\n",
      "loss:0.4228310286998749, epoch:140\n",
      "loss:0.4238731265068054, epoch:141\n",
      "loss:0.4286748468875885, epoch:142\n",
      "loss:0.41984084248542786, epoch:143\n",
      "loss:0.4196625351905823, epoch:144\n",
      "loss:0.4239315986633301, epoch:145\n",
      "loss:0.42256760597229004, epoch:146\n",
      "loss:0.40889281034469604, epoch:147\n",
      "loss:0.42109522223472595, epoch:148\n",
      "loss:0.42251309752464294, epoch:149\n",
      "loss:0.42082369327545166, epoch:150\n",
      "loss:0.42458575963974, epoch:151\n",
      "loss:0.42764973640441895, epoch:152\n",
      "loss:0.40806663036346436, epoch:153\n",
      "loss:0.4155399799346924, epoch:154\n",
      "loss:0.4142534136772156, epoch:155\n",
      "loss:0.4104978144168854, epoch:156\n",
      "loss:0.41447940468788147, epoch:157\n",
      "loss:0.41246551275253296, epoch:158\n",
      "loss:0.416549414396286, epoch:159\n",
      "loss:0.41224950551986694, epoch:160\n",
      "loss:0.4146865904331207, epoch:161\n",
      "loss:0.42050305008888245, epoch:162\n",
      "loss:0.4162830412387848, epoch:163\n",
      "loss:0.4189686179161072, epoch:164\n",
      "loss:0.41060540080070496, epoch:165\n",
      "loss:0.40858176350593567, epoch:166\n",
      "loss:0.40668800473213196, epoch:167\n",
      "loss:0.40766221284866333, epoch:168\n",
      "loss:0.4138152003288269, epoch:169\n",
      "loss:0.4021870195865631, epoch:170\n",
      "loss:0.41400405764579773, epoch:171\n",
      "loss:0.4057011902332306, epoch:172\n",
      "loss:0.4111301004886627, epoch:173\n",
      "loss:0.405796617269516, epoch:174\n",
      "loss:0.40813130140304565, epoch:175\n",
      "loss:0.4109683334827423, epoch:176\n",
      "loss:0.41104039549827576, epoch:177\n",
      "loss:0.4104166626930237, epoch:178\n",
      "loss:0.4146733582019806, epoch:179\n",
      "loss:0.40674737095832825, epoch:180\n",
      "loss:0.4062177240848541, epoch:181\n",
      "loss:0.4047901928424835, epoch:182\n",
      "loss:0.40740618109703064, epoch:183\n",
      "loss:0.41076964139938354, epoch:184\n",
      "loss:0.404379665851593, epoch:185\n",
      "loss:0.4053645133972168, epoch:186\n",
      "loss:0.4051569402217865, epoch:187\n",
      "loss:0.4075831174850464, epoch:188\n",
      "loss:0.4043780565261841, epoch:189\n",
      "loss:0.41268983483314514, epoch:190\n",
      "loss:0.4067268669605255, epoch:191\n",
      "loss:0.40977054834365845, epoch:192\n",
      "loss:0.41170090436935425, epoch:193\n",
      "loss:0.41338834166526794, epoch:194\n",
      "loss:0.4118255376815796, epoch:195\n",
      "loss:0.40922969579696655, epoch:196\n",
      "loss:0.3975698947906494, epoch:197\n",
      "loss:0.4076050817966461, epoch:198\n",
      "loss:0.4083174765110016, epoch:199\n"
     ]
    }
   ],
   "source": [
    "## Train the model\n",
    "model.train()\n",
    "for epoch in range(200):\n",
    "    optimizer.zero_grad()\n",
    "    out = model(data.x, data.edge_index)\n",
    "    loss = F.nll_loss(out[data.train_mask], data.y[data.train_mask])\n",
    "    print(f\"loss:{loss}, epoch:{epoch}\")\n",
    "    loss.backward()\n",
    "    optimizer.step()"
   ]
  },
  {
   "cell_type": "code",
   "execution_count": 19,
   "id": "4f07c241",
   "metadata": {
    "execution": {
     "iopub.execute_input": "2023-04-23T10:54:09.522534Z",
     "iopub.status.busy": "2023-04-23T10:54:09.521843Z",
     "iopub.status.idle": "2023-04-23T10:54:09.696745Z",
     "shell.execute_reply": "2023-04-23T10:54:09.695583Z"
    },
    "papermill": {
     "duration": 0.201615,
     "end_time": "2023-04-23T10:54:09.699414",
     "exception": false,
     "start_time": "2023-04-23T10:54:09.497799",
     "status": "completed"
    },
    "tags": []
   },
   "outputs": [],
   "source": [
    "device = 'cuda' if torch.cuda.is_available() else 'cpu'\n",
    "model.eval()\n",
    "_, pred = model(data.x.to(device), data.edge_index.to(device)).max(dim=1)\n",
    "test_preds = pred[data.test_mask].detach().cpu().numpy()\n",
    "test_ids = nd['id'][data.test_mask].values"
   ]
  },
  {
   "cell_type": "code",
   "execution_count": 20,
   "id": "cdf1d437",
   "metadata": {
    "execution": {
     "iopub.execute_input": "2023-04-23T10:54:09.746829Z",
     "iopub.status.busy": "2023-04-23T10:54:09.746153Z",
     "iopub.status.idle": "2023-04-23T10:54:09.935214Z",
     "shell.execute_reply": "2023-04-23T10:54:09.933593Z"
    },
    "papermill": {
     "duration": 0.216131,
     "end_time": "2023-04-23T10:54:09.937967",
     "exception": false,
     "start_time": "2023-04-23T10:54:09.721836",
     "status": "completed"
    },
    "tags": []
   },
   "outputs": [
    {
     "name": "stdout",
     "output_type": "stream",
     "text": [
      "GraphSage Train Accuracy: 0.8899\n",
      "GraphSage Test Accuracy: 0.0000\n"
     ]
    }
   ],
   "source": [
    "# Evaluate the model\n",
    "model.eval()\n",
    "out = model(data.x, data.edge_index)\n",
    "pred = out.argmax(dim=1)\n",
    "train_acc = pred[data.train_mask].eq(data.y[data.train_mask]).sum().item() / data.train_mask.sum().item()\n",
    "test_acc = pred[data.test_mask].eq(data.y[data.test_mask]).sum().item() / data.test_mask.sum().item()\n",
    "print(f'GraphSage Train Accuracy: {train_acc:.4f}')\n",
    "print(f'GraphSage Test Accuracy: {test_acc:.4f}')"
   ]
  },
  {
   "cell_type": "code",
   "execution_count": 21,
   "id": "13b44947",
   "metadata": {
    "execution": {
     "iopub.execute_input": "2023-04-23T10:54:09.985832Z",
     "iopub.status.busy": "2023-04-23T10:54:09.985428Z",
     "iopub.status.idle": "2023-04-23T10:54:09.992312Z",
     "shell.execute_reply": "2023-04-23T10:54:09.990954Z"
    },
    "papermill": {
     "duration": 0.03314,
     "end_time": "2023-04-23T10:54:09.994863",
     "exception": false,
     "start_time": "2023-04-23T10:54:09.961723",
     "status": "completed"
    },
    "tags": []
   },
   "outputs": [
    {
     "name": "stdout",
     "output_type": "stream",
     "text": [
      "['ECE' 'EEE' 'ECE' ... 'EEE' 'EEE' 'CSE']\n"
     ]
    }
   ],
   "source": [
    "test_preds = labels.inverse_transform(test_preds)\n",
    "print(test_preds)"
   ]
  },
  {
   "cell_type": "code",
   "execution_count": 22,
   "id": "c62ba18e",
   "metadata": {
    "execution": {
     "iopub.execute_input": "2023-04-23T10:54:10.043193Z",
     "iopub.status.busy": "2023-04-23T10:54:10.042311Z",
     "iopub.status.idle": "2023-04-23T10:54:10.059505Z",
     "shell.execute_reply": "2023-04-23T10:54:10.058438Z"
    },
    "papermill": {
     "duration": 0.043126,
     "end_time": "2023-04-23T10:54:10.061861",
     "exception": false,
     "start_time": "2023-04-23T10:54:10.018735",
     "status": "completed"
    },
    "tags": []
   },
   "outputs": [
    {
     "data": {
      "text/plain": [
       "3944"
      ]
     },
     "execution_count": 22,
     "metadata": {},
     "output_type": "execute_result"
    }
   ],
   "source": [
    "submission_df = pd.DataFrame({'id': test_ids, 'branch': test_preds})\n",
    "submission_df.to_csv('submission.csv', index=False)\n",
    "len(submission_df)"
   ]
  }
 ],
 "metadata": {
  "kernelspec": {
   "display_name": "Python 3",
   "language": "python",
   "name": "python3"
  },
  "language_info": {
   "codemirror_mode": {
    "name": "ipython",
    "version": 3
   },
   "file_extension": ".py",
   "mimetype": "text/x-python",
   "name": "python",
   "nbconvert_exporter": "python",
   "pygments_lexer": "ipython3",
   "version": "3.7.12"
  },
  "papermill": {
   "default_parameters": {},
   "duration": 3944.798764,
   "end_time": "2023-04-23T10:54:12.121631",
   "environment_variables": {},
   "exception": null,
   "input_path": "__notebook__.ipynb",
   "output_path": "__notebook__.ipynb",
   "parameters": {},
   "start_time": "2023-04-23T09:48:27.322867",
   "version": "2.4.0"
  },
  "widgets": {
   "application/vnd.jupyter.widget-state+json": {
    "state": {
     "0f416d24a3a1492ebddc01badc20c274": {
      "model_module": "@jupyter-widgets/controls",
      "model_module_version": "1.5.0",
      "model_name": "ProgressStyleModel",
      "state": {
       "_model_module": "@jupyter-widgets/controls",
       "_model_module_version": "1.5.0",
       "_model_name": "ProgressStyleModel",
       "_view_count": null,
       "_view_module": "@jupyter-widgets/base",
       "_view_module_version": "1.2.0",
       "_view_name": "StyleView",
       "bar_color": null,
       "description_width": ""
      }
     },
     "22a35c9d970943459c9827af08da10cc": {
      "model_module": "@jupyter-widgets/base",
      "model_module_version": "1.2.0",
      "model_name": "LayoutModel",
      "state": {
       "_model_module": "@jupyter-widgets/base",
       "_model_module_version": "1.2.0",
       "_model_name": "LayoutModel",
       "_view_count": null,
       "_view_module": "@jupyter-widgets/base",
       "_view_module_version": "1.2.0",
       "_view_name": "LayoutView",
       "align_content": null,
       "align_items": null,
       "align_self": null,
       "border": null,
       "bottom": null,
       "display": null,
       "flex": null,
       "flex_flow": null,
       "grid_area": null,
       "grid_auto_columns": null,
       "grid_auto_flow": null,
       "grid_auto_rows": null,
       "grid_column": null,
       "grid_gap": null,
       "grid_row": null,
       "grid_template_areas": null,
       "grid_template_columns": null,
       "grid_template_rows": null,
       "height": null,
       "justify_content": null,
       "justify_items": null,
       "left": null,
       "margin": null,
       "max_height": null,
       "max_width": null,
       "min_height": null,
       "min_width": null,
       "object_fit": null,
       "object_position": null,
       "order": null,
       "overflow": null,
       "overflow_x": null,
       "overflow_y": null,
       "padding": null,
       "right": null,
       "top": null,
       "visibility": null,
       "width": null
      }
     },
     "496f619c37104c78918653887ffc01da": {
      "model_module": "@jupyter-widgets/base",
      "model_module_version": "1.2.0",
      "model_name": "LayoutModel",
      "state": {
       "_model_module": "@jupyter-widgets/base",
       "_model_module_version": "1.2.0",
       "_model_name": "LayoutModel",
       "_view_count": null,
       "_view_module": "@jupyter-widgets/base",
       "_view_module_version": "1.2.0",
       "_view_name": "LayoutView",
       "align_content": null,
       "align_items": null,
       "align_self": null,
       "border": null,
       "bottom": null,
       "display": null,
       "flex": null,
       "flex_flow": null,
       "grid_area": null,
       "grid_auto_columns": null,
       "grid_auto_flow": null,
       "grid_auto_rows": null,
       "grid_column": null,
       "grid_gap": null,
       "grid_row": null,
       "grid_template_areas": null,
       "grid_template_columns": null,
       "grid_template_rows": null,
       "height": null,
       "justify_content": null,
       "justify_items": null,
       "left": null,
       "margin": null,
       "max_height": null,
       "max_width": null,
       "min_height": null,
       "min_width": null,
       "object_fit": null,
       "object_position": null,
       "order": null,
       "overflow": null,
       "overflow_x": null,
       "overflow_y": null,
       "padding": null,
       "right": null,
       "top": null,
       "visibility": null,
       "width": null
      }
     },
     "51b484e3c4194aad9d190a5c55308eb4": {
      "model_module": "@jupyter-widgets/controls",
      "model_module_version": "1.5.0",
      "model_name": "HTMLModel",
      "state": {
       "_dom_classes": [],
       "_model_module": "@jupyter-widgets/controls",
       "_model_module_version": "1.5.0",
       "_model_name": "HTMLModel",
       "_view_count": null,
       "_view_module": "@jupyter-widgets/controls",
       "_view_module_version": "1.5.0",
       "_view_name": "HTMLView",
       "description": "",
       "description_tooltip": null,
       "layout": "IPY_MODEL_6c6e2afa186e4384889c23242566da43",
       "placeholder": "​",
       "style": "IPY_MODEL_5659e095802b4e83b5edde02aad213f8",
       "value": "Computing transition probabilities: 100%"
      }
     },
     "5659e095802b4e83b5edde02aad213f8": {
      "model_module": "@jupyter-widgets/controls",
      "model_module_version": "1.5.0",
      "model_name": "DescriptionStyleModel",
      "state": {
       "_model_module": "@jupyter-widgets/controls",
       "_model_module_version": "1.5.0",
       "_model_name": "DescriptionStyleModel",
       "_view_count": null,
       "_view_module": "@jupyter-widgets/base",
       "_view_module_version": "1.2.0",
       "_view_name": "StyleView",
       "description_width": ""
      }
     },
     "60f6e7caa806442c912578684b69a4e0": {
      "model_module": "@jupyter-widgets/controls",
      "model_module_version": "1.5.0",
      "model_name": "HTMLModel",
      "state": {
       "_dom_classes": [],
       "_model_module": "@jupyter-widgets/controls",
       "_model_module_version": "1.5.0",
       "_model_name": "HTMLModel",
       "_view_count": null,
       "_view_module": "@jupyter-widgets/controls",
       "_view_module_version": "1.5.0",
       "_view_name": "HTMLView",
       "description": "",
       "description_tooltip": null,
       "layout": "IPY_MODEL_8fc784660e7c444688beb4e90a952178",
       "placeholder": "​",
       "style": "IPY_MODEL_ab36feadf7f54704913405f7b9d8494b",
       "value": " 19718/19718 [00:08&lt;00:00, 6281.62it/s]"
      }
     },
     "6c6e2afa186e4384889c23242566da43": {
      "model_module": "@jupyter-widgets/base",
      "model_module_version": "1.2.0",
      "model_name": "LayoutModel",
      "state": {
       "_model_module": "@jupyter-widgets/base",
       "_model_module_version": "1.2.0",
       "_model_name": "LayoutModel",
       "_view_count": null,
       "_view_module": "@jupyter-widgets/base",
       "_view_module_version": "1.2.0",
       "_view_name": "LayoutView",
       "align_content": null,
       "align_items": null,
       "align_self": null,
       "border": null,
       "bottom": null,
       "display": null,
       "flex": null,
       "flex_flow": null,
       "grid_area": null,
       "grid_auto_columns": null,
       "grid_auto_flow": null,
       "grid_auto_rows": null,
       "grid_column": null,
       "grid_gap": null,
       "grid_row": null,
       "grid_template_areas": null,
       "grid_template_columns": null,
       "grid_template_rows": null,
       "height": null,
       "justify_content": null,
       "justify_items": null,
       "left": null,
       "margin": null,
       "max_height": null,
       "max_width": null,
       "min_height": null,
       "min_width": null,
       "object_fit": null,
       "object_position": null,
       "order": null,
       "overflow": null,
       "overflow_x": null,
       "overflow_y": null,
       "padding": null,
       "right": null,
       "top": null,
       "visibility": null,
       "width": null
      }
     },
     "8fc784660e7c444688beb4e90a952178": {
      "model_module": "@jupyter-widgets/base",
      "model_module_version": "1.2.0",
      "model_name": "LayoutModel",
      "state": {
       "_model_module": "@jupyter-widgets/base",
       "_model_module_version": "1.2.0",
       "_model_name": "LayoutModel",
       "_view_count": null,
       "_view_module": "@jupyter-widgets/base",
       "_view_module_version": "1.2.0",
       "_view_name": "LayoutView",
       "align_content": null,
       "align_items": null,
       "align_self": null,
       "border": null,
       "bottom": null,
       "display": null,
       "flex": null,
       "flex_flow": null,
       "grid_area": null,
       "grid_auto_columns": null,
       "grid_auto_flow": null,
       "grid_auto_rows": null,
       "grid_column": null,
       "grid_gap": null,
       "grid_row": null,
       "grid_template_areas": null,
       "grid_template_columns": null,
       "grid_template_rows": null,
       "height": null,
       "justify_content": null,
       "justify_items": null,
       "left": null,
       "margin": null,
       "max_height": null,
       "max_width": null,
       "min_height": null,
       "min_width": null,
       "object_fit": null,
       "object_position": null,
       "order": null,
       "overflow": null,
       "overflow_x": null,
       "overflow_y": null,
       "padding": null,
       "right": null,
       "top": null,
       "visibility": null,
       "width": null
      }
     },
     "9651b87a113a4908a5912256e92164ef": {
      "model_module": "@jupyter-widgets/controls",
      "model_module_version": "1.5.0",
      "model_name": "HBoxModel",
      "state": {
       "_dom_classes": [],
       "_model_module": "@jupyter-widgets/controls",
       "_model_module_version": "1.5.0",
       "_model_name": "HBoxModel",
       "_view_count": null,
       "_view_module": "@jupyter-widgets/controls",
       "_view_module_version": "1.5.0",
       "_view_name": "HBoxView",
       "box_style": "",
       "children": [
        "IPY_MODEL_51b484e3c4194aad9d190a5c55308eb4",
        "IPY_MODEL_e0db3419b2af42a7a83c69fe70ab3a0d",
        "IPY_MODEL_60f6e7caa806442c912578684b69a4e0"
       ],
       "layout": "IPY_MODEL_22a35c9d970943459c9827af08da10cc"
      }
     },
     "ab36feadf7f54704913405f7b9d8494b": {
      "model_module": "@jupyter-widgets/controls",
      "model_module_version": "1.5.0",
      "model_name": "DescriptionStyleModel",
      "state": {
       "_model_module": "@jupyter-widgets/controls",
       "_model_module_version": "1.5.0",
       "_model_name": "DescriptionStyleModel",
       "_view_count": null,
       "_view_module": "@jupyter-widgets/base",
       "_view_module_version": "1.2.0",
       "_view_name": "StyleView",
       "description_width": ""
      }
     },
     "e0db3419b2af42a7a83c69fe70ab3a0d": {
      "model_module": "@jupyter-widgets/controls",
      "model_module_version": "1.5.0",
      "model_name": "FloatProgressModel",
      "state": {
       "_dom_classes": [],
       "_model_module": "@jupyter-widgets/controls",
       "_model_module_version": "1.5.0",
       "_model_name": "FloatProgressModel",
       "_view_count": null,
       "_view_module": "@jupyter-widgets/controls",
       "_view_module_version": "1.5.0",
       "_view_name": "ProgressView",
       "bar_style": "success",
       "description": "",
       "description_tooltip": null,
       "layout": "IPY_MODEL_496f619c37104c78918653887ffc01da",
       "max": 19718.0,
       "min": 0.0,
       "orientation": "horizontal",
       "style": "IPY_MODEL_0f416d24a3a1492ebddc01badc20c274",
       "value": 19718.0
      }
     }
    },
    "version_major": 2,
    "version_minor": 0
   }
  }
 },
 "nbformat": 4,
 "nbformat_minor": 5
}
